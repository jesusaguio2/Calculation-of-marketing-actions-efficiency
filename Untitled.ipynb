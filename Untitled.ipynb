{
 "cells": [
  {
   "cell_type": "code",
   "execution_count": null,
   "id": "a28eb7e3-6e53-4a48-86ce-31efd1fc787e",
   "metadata": {},
   "outputs": [],
   "source": [
    "import pandas as pd\n",
    "from geopy.distance import great_circle"
   ]
  },
  {
   "cell_type": "code",
   "execution_count": null,
   "id": "ea8d4de4-eb02-49e9-9446-541b51d46d74",
   "metadata": {},
   "outputs": [],
   "source": [
    "# Carga de los CSVs\n",
    "\n",
    "publicidad_headers = [\"timestamp\", \"latitud_publicidad\", \"longitud_publicidad\", \"panfletos_repartidos\"]\n",
    "ventas_headers = [\"timestamp\", \"id\", \"ganancia\"]\n",
    "\n",
    "restaurantes = pd.read_csv(\"C:/Users/jesus/Prueba_tecnica_Deloitte/restaurantes.csv\", sep=\";\")\n",
    "publicidad_df = pd.read_csv(\"C:/Users/jesus/Prueba_tecnica_Deloitte/publicidad.csv\", sep=\";\", names=publicidad_headers)\n",
    "ventas_df = pd.read_csv(\"C:/Users/jesus/Prueba_tecnica_Deloitte/ventas.csv\", sep=\";\", names=ventas_headers)\n",
    "\n",
    "restaurantes_df = restaurantes.rename(columns={'lat':'latitud_restaurante', 'long':'longitud_restaurante'})"
   ]
  },
  {
   "cell_type": "code",
   "execution_count": null,
   "id": "eb5f8a51-ec8e-48ee-bb49-c143d87cd7ed",
   "metadata": {},
   "outputs": [],
   "source": [
    "from geopy.distance import great_circle\n",
    "\n",
    "def calcular_distancia(lat1, lon1, lat2, lon2):\n",
    "    return great_circle((lat1, lon1), (lat2, lon2)).kilometers\n"
   ]
  },
  {
   "cell_type": "code",
   "execution_count": null,
   "id": "122a1aaa-a16d-434c-9ad6-9283fd3fba4d",
   "metadata": {},
   "outputs": [],
   "source": []
  }
 ],
 "metadata": {
  "kernelspec": {
   "display_name": "Python 3 (ipykernel)",
   "language": "python",
   "name": "python3"
  },
  "language_info": {
   "codemirror_mode": {
    "name": "ipython",
    "version": 3
   },
   "file_extension": ".py",
   "mimetype": "text/x-python",
   "name": "python",
   "nbconvert_exporter": "python",
   "pygments_lexer": "ipython3",
   "version": "3.12.4"
  }
 },
 "nbformat": 4,
 "nbformat_minor": 5
}
